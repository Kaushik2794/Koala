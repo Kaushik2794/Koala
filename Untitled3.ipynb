{
 "cells": [
  {
   "cell_type": "code",
   "execution_count": 1,
   "metadata": {},
   "outputs": [],
   "source": [
    "import scrapy\n",
    "\n",
    "class SephoraPerfumeSpider(scrapy.Spider): # Create sephora perfume subclass of Spider class provided by Scrapy\n",
    "    name = 'sephora_perfume'\n",
    "    # start_urls = ['https://www.sephora.com/shop/perfume?currentPage=%' % page for page in range(1,14)] # Range should be one more than you want\n",
    "    start_urls = ['https://www.sephora.com/shop/perfume']\n",
    "    # What we want to do is get the HTML content and then get pull data out of tags\n",
    "    # For this we're going to want the brand, the price, the name of the perfume\n",
    "    # We'll also want the link to the page to get the description\n",
    "    def parse(self, response):\n",
    "        # To get attributes we want, define selectors\n",
    "        name_selector = 'span[data-at=\"sku_item_name\"]::text'\n",
    "        brand_selector = 'span[data-at=\"sku_item_brand\"]::text'\n",
    "        price_selector = 'span[data-at=\"sku_item_price_list\"]::text'\n",
    "        product_names = response.css(name_selector).getall()\n",
    "        product_brands = response.css(brand_selector).getall()\n",
    "        product_prices = response.css(price_selector).getall()\n",
    "\n",
    "        for index,product in enumerate(product_names):\n",
    "            yield{\n",
    "            'product_name': product_names[index],\n",
    "            'brand_name': product_brands[index],\n",
    "            'product_price': product_prices[index]\n",
    "        }"
   ]
  },
  {
   "cell_type": "code",
   "execution_count": 2,
   "metadata": {},
   "outputs": [],
   "source": [
    "import requests\n",
    "from bs4 import BeautifulSoup, NavigableString, Tag\n",
    "import re\n",
    "from datetime import datetime\n",
    "import pandas as pd\n",
    "import psycopg2\n",
    "import time\n",
    "\n",
    "\n",
    "\n",
    "page = requests.get('https://www.sephora.com/shop/perfume?currentPage=1')\n",
    "\n",
    "# Create a BeautifulSoup object\n",
    "soup = BeautifulSoup(page.text, 'html.parser')\n",
    "\n",
    "# Can be illustrative to look at data directly\n",
    "soup\n",
    "\n",
    "spans = soup.find_all('span')"
   ]
  },
  {
   "cell_type": "code",
   "execution_count": 3,
   "metadata": {},
   "outputs": [
    {
     "data": {
      "text/plain": [
       "[<span aria-label=\"Loves List\" class=\"css-vhqpm4 Tooltip\" data-comp=\"Tooltip Box\"><div class=\"css-5vaxlb Tooltip-box\" data-comp=\"Box\">Loves List<div class=\"css-1e970n3\" data-comp=\"Box\"></div></div><div class=\"css-1by34he\" data-comp=\"Box\"><svg aria-hidden=\"true\" class=\"css-1xfafgu\" data-comp=\"IconLove Icon Box\" viewbox=\"0 0 24 24\"><path d=\"M22 2.9c2.7 2.2 2.6 7.3.1 9.9-2.2 2.8-7.4 8.3-9.3 9.8-.5.4-1.1.4-1.6 0-1.8-1.5-7-7-9.2-9.8-2.6-2.6-2.7-7.7 0-9.9C4.6.2 9.7.5 12 4 14.3.5 19.3.2 22 2.9zm-.7.8c-2.4-2.5-7.2-2-8.8 1.6-.1.2-.4.4-.7.3-.1 0-.2-.1-.3-.3-1.6-3.5-6.4-4-8.8-1.6-2.2 1.8-2.1 6.2.1 8.4 2.2 2.8 7.3 8.2 9 9.6.1.1.2.1.3 0 1.7-1.4 6.9-6.8 9.1-9.6 2.2-2.2 2.3-6.6.1-8.4z\"></path></svg></div></span>,\n",
       " <span class=\"css-vkf4am\"> Brand filter</span>,\n",
       " <span class=\"css-vkf4am\"> Fragrance Family filter</span>,\n",
       " <span class=\"css-vkf4am\"> Fragrance Type filter</span>,\n",
       " <span class=\"css-vkf4am\"> Formulation filter</span>,\n",
       " <span class=\"css-vkf4am\"> Size filter</span>,\n",
       " <span data-at=\"number_of_products\">780 products</span>,\n",
       " <span id=\"catalogSortDescription\" style=\"display:none\">Choosing sorting option will automatically update the products that are displayed to match the selected sorting option</span>,\n",
       " <span class=\"css-ktoumz\" data-at=\"sku_item_brand\">Sephora Favorites</span>,\n",
       " <span class=\"css-pelz90\" data-at=\"sku_item_name\">Holiday Perfume Sampler</span>,\n",
       " <span class=\"css-0\" data-at=\"sku_item_price_list\">$65.00</span>,\n",
       " <span class=\"css-pelz90\" data-at=\"sku_item_price_value\"> <!-- -->($111.00 value)</span>,\n",
       " <span class=\"css-ktoumz\" data-at=\"sku_item_brand\">CHANEL</span>,\n",
       " <span class=\"css-pelz90\" data-at=\"sku_item_name\">COCO MADEMOISELLE Eau de Parfum</span>,\n",
       " <span class=\"css-0\" data-at=\"sku_item_price_list\">$80.00 - $135.00</span>,\n",
       " <span class=\"css-ktoumz\" data-at=\"sku_item_brand\">Viktor&amp;Rolf</span>,\n",
       " <span class=\"css-pelz90\" data-at=\"sku_item_name\">Flowerbomb</span>,\n",
       " <span class=\"css-0\" data-at=\"sku_item_price_list\">$30.00 - $215.00</span>,\n",
       " <span class=\"css-ktoumz\" data-at=\"sku_item_brand\">CHANEL</span>,\n",
       " <span class=\"css-pelz90\" data-at=\"sku_item_name\">CHANCE EAU TENDRE Eau de Toilette</span>,\n",
       " <span class=\"css-0\" data-at=\"sku_item_price_list\">$62.00 - $107.00</span>,\n",
       " <span class=\"css-ktoumz\" data-at=\"sku_item_brand\">Juliette Has a Gun</span>,\n",
       " <span class=\"css-pelz90\" data-at=\"sku_item_name\">Not A Perfume</span>,\n",
       " <span class=\"css-0\" data-at=\"sku_item_price_list\">$28.00 - $135.00</span>,\n",
       " <span class=\"css-ktoumz\" data-at=\"sku_item_brand\">MAISON MARGIELA</span>,\n",
       " <span class=\"css-pelz90\" data-at=\"sku_item_name\">’REPLICA’ By The Fireplace</span>,\n",
       " <span class=\"css-0\" data-at=\"sku_item_price_list\">$28.00 - $126.00</span>,\n",
       " <span class=\"css-ktoumz\" data-at=\"sku_item_brand\">Yves Saint Laurent</span>,\n",
       " <span class=\"css-pelz90\" data-at=\"sku_item_name\">Black Opium</span>,\n",
       " <span class=\"css-0\" data-at=\"sku_item_price_list\">$29.00 - $145.00</span>,\n",
       " <span class=\"css-ktoumz\" data-at=\"sku_item_brand\">Dior</span>,\n",
       " <span class=\"css-pelz90\" data-at=\"sku_item_name\">J'adore Eau de Parfum</span>,\n",
       " <span class=\"css-0\" data-at=\"sku_item_price_list\">$75.00 - $165.00</span>,\n",
       " <span class=\"css-ktoumz\" data-at=\"sku_item_brand\">Yves Saint Laurent</span>,\n",
       " <span class=\"css-pelz90\" data-at=\"sku_item_name\">Libre Eau De Parfum</span>,\n",
       " <span class=\"css-0\" data-at=\"sku_item_price_list\">$30.00 - $130.00</span>,\n",
       " <span class=\"css-ktoumz\" data-at=\"sku_item_brand\">Kat Von D</span>,\n",
       " <span class=\"css-pelz90\" data-at=\"sku_item_name\">Saint Eau de Parfum</span>,\n",
       " <span class=\"css-4jky3p\" data-at=\"sku_item_price_list\">$22.00 - $85.00</span>,\n",
       " <span class=\"css-1qdampm\" data-at=\"sku_item_price_sale\"> <!-- -->$13.20 - $51.00</span>,\n",
       " <span class=\"css-ktoumz\" data-at=\"sku_item_brand\">Dior</span>,\n",
       " <span class=\"css-pelz90\" data-at=\"sku_item_name\">Miss Dior Blooming Bouquet</span>,\n",
       " <span class=\"css-0\" data-at=\"sku_item_price_list\">$38.00 - $125.00</span>,\n",
       " <span class=\"css-ktoumz\" data-at=\"sku_item_brand\">Versace</span>,\n",
       " <span class=\"css-pelz90\" data-at=\"sku_item_name\">Bright Crystal</span>,\n",
       " <span class=\"css-0\" data-at=\"sku_item_price_list\">$30.00 - $140.00</span>,\n",
       " <span style=\"font-size:11px;\"><span style=\"color:#666666\">Looking for perfume? We’re here to help. Our perfumes for women feature top brands plus exclusive and niche scents.</span></span>,\n",
       " <span style=\"color:#666666\">Looking for perfume? We’re here to help. Our perfumes for women feature top brands plus exclusive and niche scents.</span>,\n",
       " <span class=\"css-1cd7uv\" data-comp=\"Arrow Box\"></span>]"
      ]
     },
     "execution_count": 3,
     "metadata": {},
     "output_type": "execute_result"
    }
   ],
   "source": [
    "spans"
   ]
  },
  {
   "cell_type": "code",
   "execution_count": null,
   "metadata": {},
   "outputs": [],
   "source": []
  }
 ],
 "metadata": {
  "kernelspec": {
   "display_name": "Python 3",
   "language": "python",
   "name": "python3"
  },
  "language_info": {
   "codemirror_mode": {
    "name": "ipython",
    "version": 3
   },
   "file_extension": ".py",
   "mimetype": "text/x-python",
   "name": "python",
   "nbconvert_exporter": "python",
   "pygments_lexer": "ipython3",
   "version": "3.7.1"
  }
 },
 "nbformat": 4,
 "nbformat_minor": 2
}
