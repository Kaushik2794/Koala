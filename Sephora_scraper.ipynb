{
 "cells": [
  {
   "cell_type": "code",
   "execution_count": 25,
   "metadata": {},
   "outputs": [],
   "source": [
    "from bs4 import BeautifulSoup\n",
    "import requests\n",
    "import re"
   ]
  },
  {
   "cell_type": "code",
   "execution_count": 82,
   "metadata": {},
   "outputs": [
    {
     "name": "stdout",
     "output_type": "stream",
     "text": [
      "https://www.sephora.com/shop/face-makeup1\n",
      "https://www.sephora.com/shop/face-makeup2\n",
      "https://www.sephora.com/shop/face-makeup3\n",
      "https://www.sephora.com/shop/face-makeup4\n",
      "https://www.sephora.com/shop/face-makeup5\n",
      "https://www.sephora.com/shop/face-makeup6\n",
      "https://www.sephora.com/shop/face-makeup7\n",
      "https://www.sephora.com/shop/face-makeup8\n",
      "https://www.sephora.com/shop/face-makeup9\n",
      "https://www.sephora.com/shop/face-makeup10\n",
      "https://www.sephora.com/shop/face-makeup11\n",
      "https://www.sephora.com/shop/face-makeup12\n",
      "https://www.sephora.com/shop/face-makeup13\n",
      "https://www.sephora.com/shop/face-makeup14\n",
      "https://www.sephora.com/shop/face-makeup15\n",
      "https://www.sephora.com/shop/face-makeup16\n",
      "https://www.sephora.com/shop/face-makeup17\n"
     ]
    }
   ],
   "source": [
    "url = \"https://www.sephora.com/shop/face-makeup\""
   ]
  },
  {
   "cell_type": "code",
   "execution_count": 83,
   "metadata": {},
   "outputs": [],
   "source": [
    "url = \"https://www.sephora.com/shop/face-makeup\"\n",
    "request = requests.get(url)\n",
    "data=request.text\n",
    "soup = BeautifulSoup(data, 'html.parser')"
   ]
  },
  {
   "cell_type": "code",
   "execution_count": 89,
   "metadata": {},
   "outputs": [
    {
     "data": {
      "text/plain": [
       "[<a class=\"css-h6ss0r\" data-at=\"nth_level\" data-comp=\"Link Box\" href=\"/shop/foundation-makeup\">Foundation</a>,\n",
       " <a class=\"css-h6ss0r\" data-at=\"nth_level\" data-comp=\"Link Box\" href=\"/shop/bb-cc-cream-face-makeup\">BB &amp; CC Cream</a>,\n",
       " <a class=\"css-h6ss0r\" data-at=\"nth_level\" data-comp=\"Link Box\" href=\"/shop/tinted-moisturizer\">Tinted Moisturizer</a>,\n",
       " <a class=\"css-h6ss0r\" data-at=\"nth_level\" data-comp=\"Link Box\" href=\"/shop/concealer\">Concealer</a>,\n",
       " <a class=\"css-h6ss0r\" data-at=\"nth_level\" data-comp=\"Link Box\" href=\"/shop/makeup-primer-face-primer\">Face Primer</a>,\n",
       " <a class=\"css-h6ss0r\" data-at=\"nth_level\" data-comp=\"Link Box\" href=\"/shop/setting-powder-face-powder\">Setting Spray &amp; Powder</a>,\n",
       " <a class=\"css-h6ss0r\" data-at=\"nth_level\" data-comp=\"Link Box\" href=\"/shop/luminizer-luminous-makeup\">Highlighter</a>,\n",
       " <a class=\"css-h6ss0r\" data-at=\"nth_level\" data-comp=\"Link Box\" href=\"/shop/contour-palette-brush\">Contour</a>,\n",
       " <a class=\"css-h6ss0r\" data-at=\"nth_level\" data-comp=\"Link Box\" href=\"/shop/color-correcting\">Color Correct</a>,\n",
       " <a class=\"css-h6ss0r\" data-at=\"nth_level\" data-comp=\"Link Box\" href=\"/shop/complexion-sets\">Face Sets</a>]"
      ]
     },
     "execution_count": 89,
     "metadata": {},
     "output_type": "execute_result"
    }
   ],
   "source": [
    "tags = soup.find_all('a',{'class': 'css-h6ss0r'})\n",
    "tags"
   ]
  },
  {
   "cell_type": "code",
   "execution_count": 91,
   "metadata": {},
   "outputs": [
    {
     "name": "stdout",
     "output_type": "stream",
     "text": [
      "https://www.sephora.com/shop/foundation-makeup\n",
      "https://www.sephora.com/shop/bb-cc-cream-face-makeup\n",
      "https://www.sephora.com/shop/tinted-moisturizer\n",
      "https://www.sephora.com/shop/concealer\n",
      "https://www.sephora.com/shop/makeup-primer-face-primer\n",
      "https://www.sephora.com/shop/setting-powder-face-powder\n",
      "https://www.sephora.com/shop/luminizer-luminous-makeup\n",
      "https://www.sephora.com/shop/contour-palette-brush\n",
      "https://www.sephora.com/shop/color-correcting\n",
      "https://www.sephora.com/shop/complexion-sets\n"
     ]
    }
   ],
   "source": [
    "for tag in tags:\n",
    "    print('https://www.sephora.com'+tag['href'])"
   ]
  },
  {
   "cell_type": "code",
   "execution_count": 117,
   "metadata": {},
   "outputs": [],
   "source": [
    "url='https://www.sephora.com/shop/foundation-makeup?currentPage=1'\n",
    "request = requests.get(url)\n",
    "data=request.text\n",
    "soup = BeautifulSoup(data, 'html.parser')"
   ]
  },
  {
   "cell_type": "code",
   "execution_count": 118,
   "metadata": {},
   "outputs": [],
   "source": [
    "tags = soup.find_all('a',{'class': 'css-ix8km1'})"
   ]
  },
  {
   "cell_type": "code",
   "execution_count": 119,
   "metadata": {},
   "outputs": [],
   "source": [
    "urls=[]\n",
    "for tag in tags:\n",
    "    urls.append('https://www.sephora.com'+tag['href'])"
   ]
  },
  {
   "cell_type": "code",
   "execution_count": 120,
   "metadata": {},
   "outputs": [
    {
     "data": {
      "text/plain": [
       "'https://www.sephora.com/product/luminous-silk-foundation-P393401?icid2=products grid:p393401'"
      ]
     },
     "execution_count": 120,
     "metadata": {},
     "output_type": "execute_result"
    }
   ],
   "source": [
    "urls[1]"
   ]
  },
  {
   "cell_type": "code",
   "execution_count": 113,
   "metadata": {},
   "outputs": [
    {
     "data": {
      "text/plain": [
       "'https://www.sephora.com/product/born-this-way-P397517?icid2=products grid:p397517'"
      ]
     },
     "execution_count": 113,
     "metadata": {},
     "output_type": "execute_result"
    }
   ],
   "source": [
    "urls[0]"
   ]
  },
  {
   "cell_type": "code",
   "execution_count": 114,
   "metadata": {},
   "outputs": [],
   "source": [
    "url = urls[0]\n",
    "request = requests.get(url)\n",
    "data=request.text\n",
    "soup = BeautifulSoup(data, 'html.parser')"
   ]
  },
  {
   "cell_type": "code",
   "execution_count": 115,
   "metadata": {},
   "outputs": [],
   "source": [
    "tags = soup.find_all('a')"
   ]
  },
  {
   "cell_type": "code",
   "execution_count": 116,
   "metadata": {},
   "outputs": [
    {
     "data": {
      "text/plain": [
       "[<a class=\"css-1isu5f3\" data-comp=\"Link Box\" href=\"/purchase-history\"><svg aria-hidden=\"true\" class=\"css-1qg27x9\" data-comp=\"IconReorder Icon Box\" viewbox=\"0 0 24 24\"><path d=\"M15.1 19.1H4.2c-.5 0-.9.4-.9.9s.4.9.9.9h10.9c.5 0 .9-.4.9-.9s-.4-.9-.9-.9zM13.5 22.2H6c-.5 0-.9.4-.9.9s.4.9.9.9h7.5c.5 0 .9-.4.9-.9s-.4-.9-.9-.9zM18.5 12.6h-2.1c0-.1-.1-.2-.2-.3l-5.8-5.8-.1-.1c-.2-.2-.5-.3-.8-.2-.2 0-.3.1-.4.2l-.1.1-5.8 5.8c-.1.1-.2.2-.2.3H.9c-.5 0-.9.4-.9.8 0 .5.4.9.9.9h17.6c.5 0 .9-.4.9-.9 0-.4-.4-.8-.9-.8zm-13.1 0l4.3-4.3 4.3 4.3H5.4zM16.8 16H2.6c-.5 0-.9.4-.9.9s.4.9.9.9h13.9l1-.3c.2-.2.2-.4.2-.6 0-.5-.4-.9-.9-.9zM22 4.9c-2.5-2.8-6.5-3.5-9.7-2l.5-1.9c.1-.4-.2-.9-.6-1-.4-.1-.9.2-1 .6l-.9 3.9s-.2.8.5.9l4 .9h.4c.3-.1.5-.3.6-.6.1-.4-.2-.9-.6-1l-2-.5c2.6-1.2 5.8-.6 7.7 1.6 2.3 2.7 2 6.8-.7 9.1-.4.2-.6.6-.4 1 .1.5.6.7 1.1.6.2 0 .3-.2.5-.3 3.2-2.8 3.6-7.9.6-11.3z\"></path></svg>Reorder</a>,\n",
       " <a class=\"css-1isu5f3\" data-at=\"find_in_store\" data-comp=\"Link Box\" href=\"/happening/stores/sephora-near-me\"><svg aria-hidden=\"true\" class=\"css-1fzj3ho\" data-comp=\"IconLocate Icon Box\" viewbox=\"5 2 14 20\"><path d=\"M12 2C8.1 2 5 5.1 5 9c0 5.2 7 13 7 13s7-7.8 7-13c0-3.9-3.1-7-7-7zm0 9.5c-1.4 0-2.5-1.1-2.5-2.5s1.1-2.5 2.5-2.5 2.5 1.1 2.5 2.5-1.1 2.5-2.5 2.5z\"></path></svg>Find a Store</a>,\n",
       " <a class=\"css-13o7eu2\" data-comp=\"Logo\" href=\"/\"><img alt=\"Sephora\" class=\"css-13o7eu2\" height=\"28\" src=\"https://www.sephora.com/contentimages/logo/logo.svg\" width=\"216\"/></a>,\n",
       " <a aria-label=\"Go to loves list\" class=\"css-x62n66\" data-comp=\"LovesListBtn Box\" href=\"/shopping-list\"><span aria-label=\"Loves List\" class=\"css-vhqpm4 Tooltip\" data-comp=\"Tooltip Box\"><div class=\"css-5vaxlb Tooltip-box\" data-comp=\"Box\">Loves List<div class=\"css-1e970n3\" data-comp=\"Box\"></div></div><div class=\"css-1by34he\" data-comp=\"Box\"><svg aria-hidden=\"true\" class=\"css-1xfafgu\" data-comp=\"IconLove Icon Box\" viewbox=\"0 0 24 24\"><path d=\"M22 2.9c2.7 2.2 2.6 7.3.1 9.9-2.2 2.8-7.4 8.3-9.3 9.8-.5.4-1.1.4-1.6 0-1.8-1.5-7-7-9.2-9.8-2.6-2.6-2.7-7.7 0-9.9C4.6.2 9.7.5 12 4 14.3.5 19.3.2 22 2.9zm-.7.8c-2.4-2.5-7.2-2-8.8 1.6-.1.2-.4.4-.7.3-.1 0-.2-.1-.3-.3-1.6-3.5-6.4-4-8.8-1.6-2.2 1.8-2.1 6.2.1 8.4 2.2 2.8 7.3 8.2 9 9.6.1.1.2.1.3 0 1.7-1.4 6.9-6.8 9.1-9.6 2.2-2.2 2.3-6.6.1-8.4z\"></path></svg></div></span></a>,\n",
       " <a aria-controls=\"inline_basket\" aria-expanded=\"false\" aria-haspopup=\"true\" class=\"css-9xr3lb dropdownTrigger\" data-comp=\"DropdownTrigger Box\" href=\"/basket\" id=\"inline_basket_trigger\"><div class=\"css-1rkwd8q\" data-comp=\"Flex Box\"><div class=\"css-1mcg98n\" data-comp=\"Box\"><svg aria-label=\"Go To Basket\" class=\"css-1xfafgu\" data-comp=\"IconBasket Icon Box\" viewbox=\"0 0 24 24\"><path d=\"M5.8 7.2l4-4.1c1.8-1.6 2.6-1.6 4.3 0l4 4.1c.1.1.2.2.4.2.1 0 .3-.1.4-.2.2-.2.2-.6 0-.8l-4-4.2C12.7.3 11.3.3 9.1 2.2l-4 4.1c-.2.4-.2.7 0 .9.2.2.5.2.7 0zM0 9l2.4 12.4c.2 1 1.1 1.8 2.1 1.8h14.9c1 0 1.9-.7 2.1-1.8L24 9H0zm22.7 1.1l-.4 2.2H1.8l-.4-2.2h21.3zM2.6 16.6h18.8l-.4 2.2H3l-.4-2.2zm-.2-1.1L2 13.4h20l-.4 2.2H2.4zm17 6.6H4.6c-.5 0-1-.4-1.1-.9l-.3-1.3h17.5l-.3 1.3c0 .5-.4.9-1 .9z\"></path></svg></div></div><div class=\"css-0\"></div></a>,\n",
       " <a class=\"css-1ylrown\" data-comp=\"Link Box\" href=\"/shop/makeup-cosmetics\">Makeup</a>,\n",
       " <a class=\"css-1ylrown\" data-comp=\"Link Box\" href=\"/shop/face-makeup\">Face</a>,\n",
       " <a class=\"css-iasgl9\" data-comp=\"Link Box\" href=\"/shop/foundation-makeup\">Foundation</a>,\n",
       " <a class=\"css-1agrjfo\" data-comp=\"Link Box\" href=\"/brand/too-faced?icid2=product_link_brand\"><span class=\"css-euydo4\">Too Faced</span></a>,\n",
       " <a class=\"css-th1w6d\" data-comp=\"RatingsSummary Flex Box\" href=\"#ratings-reviews-container\"><div aria-label=\"4 stars\" class=\"css-r17a09\" data-comp=\"StarRating\"><div><svg aria-hidden=\"true\" class=\"css-gxcz9o\" data-comp=\"IconStar Icon Box\" viewbox=\"0 0 32 32\"><path d=\"M16 0l4.9 10.5L32 12.2l-8 8.2L25.9 32 16 26.5 6.1 32 8 20.4l-8-8.2 11.1-1.7L16 0z\"></path></svg><svg aria-hidden=\"true\" class=\"css-gxcz9o\" data-comp=\"IconStar Icon Box\" viewbox=\"0 0 32 32\"><path d=\"M16 0l4.9 10.5L32 12.2l-8 8.2L25.9 32 16 26.5 6.1 32 8 20.4l-8-8.2 11.1-1.7L16 0z\"></path></svg><svg aria-hidden=\"true\" class=\"css-gxcz9o\" data-comp=\"IconStar Icon Box\" viewbox=\"0 0 32 32\"><path d=\"M16 0l4.9 10.5L32 12.2l-8 8.2L25.9 32 16 26.5 6.1 32 8 20.4l-8-8.2 11.1-1.7L16 0z\"></path></svg><svg aria-hidden=\"true\" class=\"css-gxcz9o\" data-comp=\"IconStar Icon Box\" viewbox=\"0 0 32 32\"><path d=\"M16 0l4.9 10.5L32 12.2l-8 8.2L25.9 32 16 26.5 6.1 32 8 20.4l-8-8.2 11.1-1.7L16 0z\"></path></svg><svg aria-hidden=\"true\" class=\"css-gxcz9o\" data-comp=\"IconStar Icon Box\" viewbox=\"0 0 32 32\"><path d=\"M16 0l4.9 10.5L32 12.2l-8 8.2L25.9 32 16 26.5 6.1 32 8 20.4l-8-8.2 11.1-1.7L16 0z\"></path></svg></div><div class=\"css-1pjru6n\" data-at=\"star_rating_style\" style=\"width:77.24%\"><svg aria-hidden=\"true\" class=\"css-gxcz9o\" data-comp=\"IconStar Icon Box\" viewbox=\"0 0 32 32\"><path d=\"M16 0l4.9 10.5L32 12.2l-8 8.2L25.9 32 16 26.5 6.1 32 8 20.4l-8-8.2 11.1-1.7L16 0z\"></path></svg><svg aria-hidden=\"true\" class=\"css-gxcz9o\" data-comp=\"IconStar Icon Box\" viewbox=\"0 0 32 32\"><path d=\"M16 0l4.9 10.5L32 12.2l-8 8.2L25.9 32 16 26.5 6.1 32 8 20.4l-8-8.2 11.1-1.7L16 0z\"></path></svg><svg aria-hidden=\"true\" class=\"css-gxcz9o\" data-comp=\"IconStar Icon Box\" viewbox=\"0 0 32 32\"><path d=\"M16 0l4.9 10.5L32 12.2l-8 8.2L25.9 32 16 26.5 6.1 32 8 20.4l-8-8.2 11.1-1.7L16 0z\"></path></svg><svg aria-hidden=\"true\" class=\"css-gxcz9o\" data-comp=\"IconStar Icon Box\" viewbox=\"0 0 32 32\"><path d=\"M16 0l4.9 10.5L32 12.2l-8 8.2L25.9 32 16 26.5 6.1 32 8 20.4l-8-8.2 11.1-1.7L16 0z\"></path></svg><svg aria-hidden=\"true\" class=\"css-gxcz9o\" data-comp=\"IconStar Icon Box\" viewbox=\"0 0 32 32\"><path d=\"M16 0l4.9 10.5L32 12.2l-8 8.2L25.9 32 16 26.5 6.1 32 8 20.4l-8-8.2 11.1-1.7L16 0z\"></path></svg></div></div><span class=\"css-2rg6q7\">8K reviews</span></a>,\n",
       " <a class=\"css-1wh87o8\" data-comp=\"Box\" href=\"/brand/too-faced?icid2=product_about brand_visit brand lp\"><img alt=\"Too Faced\" class=\"css-1kpvigs\" data-comp=\"BrandLogo Image Box\" data-llimg=\"https://www.sephora.com/contentimages/brands/toofaced/050812_toofaced_logo_279.png\" src=\"/img/ufe/placeholder.png\" srcset=\"\"/></a>,\n",
       " <a class=\"css-8sv7lk\" data-comp=\"Link Box\" href=\"/brand/too-faced?icid2=product_about brand_visit brand lp\">Visit the Too Faced boutique<svg aria-hidden=\"true\" class=\"css-2wtn3k\" data-comp=\"Chevron Box\" viewbox=\"0 0 57 95\"><path d=\"M57 47.5L9.5 0 0 9.5l38 38-38 38L9.5 95 57 47.5z\"></path></svg></a>,\n",
       " <a class=\"css-8sv7lk\" data-comp=\"Link Box\" href=\"/brand/too-faced?icid2=product_about brand_shop all&amp;products=all\">Shop all Too Faced products<svg aria-hidden=\"true\" class=\"css-2wtn3k\" data-comp=\"Chevron Box\" viewbox=\"0 0 57 95\"><path d=\"M57 47.5L9.5 0 0 9.5l38 38-38 38L9.5 95 57 47.5z\"></path></svg></a>]"
      ]
     },
     "execution_count": 116,
     "metadata": {},
     "output_type": "execute_result"
    }
   ],
   "source": [
    "tags"
   ]
  },
  {
   "cell_type": "code",
   "execution_count": null,
   "metadata": {},
   "outputs": [],
   "source": []
  }
 ],
 "metadata": {
  "kernelspec": {
   "display_name": "Python 3",
   "language": "python",
   "name": "python3"
  },
  "language_info": {
   "codemirror_mode": {
    "name": "ipython",
    "version": 3
   },
   "file_extension": ".py",
   "mimetype": "text/x-python",
   "name": "python",
   "nbconvert_exporter": "python",
   "pygments_lexer": "ipython3",
   "version": "3.7.1"
  }
 },
 "nbformat": 4,
 "nbformat_minor": 2
}
