{
 "cells": [
  {
   "cell_type": "code",
   "execution_count": 2,
   "metadata": {},
   "outputs": [],
   "source": [
    "s =\"\"\"Sun 10:00-20:00\n",
    "Fri 05:00-10:00\n",
    "Fri 16:30-23:50\n",
    "Sat 10:00-24:00\n",
    "Sun 01:00-04:00\n",
    "Sat 02:00-06:00\n",
    "Tue 03:30-18:15\n",
    "Tue 19:00-20:00\n",
    "Wed 04:25-15:14\n",
    "Wed 15:14-22:40\n",
    "Thu 00:00-23:59\n",
    "Mon 05:00-13:00\n",
    "Mon 15:00-21:00\"\"\""
   ]
  },
  {
   "cell_type": "code",
   "execution_count": null,
   "metadata": {},
   "outputs": [],
   "source": [
    "def solution()"
   ]
  },
  {
   "cell_type": "code",
   "execution_count": 3,
   "metadata": {},
   "outputs": [
    {
     "data": {
      "text/plain": [
       "['Mon',\n",
       " '01:00-23:00',\n",
       " 'Fri',\n",
       " '05:00-10:00',\n",
       " 'Fri',\n",
       " '16:30-23:50',\n",
       " 'Sat',\n",
       " '10:00-24:00',\n",
       " 'Sun',\n",
       " '01:00-04:00']"
      ]
     },
     "execution_count": 3,
     "metadata": {},
     "output_type": "execute_result"
    }
   ],
   "source": [
    "s.split( )"
   ]
  },
  {
   "cell_type": "code",
   "execution_count": null,
   "metadata": {},
   "outputs": [],
   "source": [
    "dicts = {}\n",
    "keys = range(4)\n",
    "values = [\"Hi\", \"I\", \"am\", \"John\"]\n",
    "for i in keys:\n",
    "    for x in values:\n",
    "        dicts[i] = x\n",
    "print(dicts)"
   ]
  },
  {
   "cell_type": "code",
   "execution_count": 76,
   "metadata": {},
   "outputs": [],
   "source": [
    "def solution(A):\n",
    "    day = []\n",
    "    time = []\n",
    "    sleep = 0\n",
    "    keys = []\n",
    "    datadict = {}\n",
    "    for ii,text in enumerate(s.split()):\n",
    "        if ii%2 == 0:\n",
    "            day.append(text)\n",
    "        else:\n",
    "            time.append(text)\n",
    "    tups = tuple(zip(day,time))\n",
    "    for key,val in tups:\n",
    "        datadict[key].append[val]\n",
    "    \n",
    "\n",
    "\n",
    "    \n",
    "        \n",
    "\n",
    "        \n",
    "    "
   ]
  },
  {
   "cell_type": "code",
   "execution_count": 8,
   "metadata": {},
   "outputs": [
    {
     "name": "stdout",
     "output_type": "stream",
     "text": [
      "0 Sun\n",
      "1 10:00-20:00\n",
      "2 Fri\n",
      "3 05:00-10:00\n",
      "4 Fri\n",
      "5 16:30-23:50\n",
      "6 Sat\n",
      "7 10:00-24:00\n",
      "8 Sun\n",
      "9 01:00-04:00\n",
      "10 Sat\n",
      "11 02:00-06:00\n",
      "12 Tue\n",
      "13 03:30-18:15\n",
      "14 Tue\n",
      "15 19:00-20:00\n",
      "16 Wed\n",
      "17 04:25-15:14\n",
      "18 Wed\n",
      "19 15:14-22:40\n",
      "20 Thu\n",
      "21 00:00-23:59\n",
      "22 Mon\n",
      "23 05:00-13:00\n",
      "24 Mon\n",
      "25 15:00-21:00\n",
      "['Sun', 'Fri', 'Fri', 'Sat', 'Sun', 'Sat', 'Tue', 'Tue', 'Wed', 'Wed', 'Thu', 'Mon', 'Mon'] ['10:00-20:00', '05:00-10:00', '16:30-23:50', '10:00-24:00', '01:00-04:00', '02:00-06:00', '03:30-18:15', '19:00-20:00', '04:25-15:14', '15:14-22:40', '00:00-23:59', '05:00-13:00', '15:00-21:00']\n"
     ]
    }
   ],
   "source": [
    "day = []\n",
    "time = []\n",
    "sleep = 0\n",
    "keys = []\n",
    "datadict = {}\n",
    "for ii,text in enumerate(s.split()):\n",
    "    print(ii, text)\n",
    "    if ii%2 == 0:\n",
    "        day.append(text)\n",
    "    else:\n",
    "        time.append(text)\n",
    "tups = tuple(zip(day,time))\n",
    "for key,val in tups:\n",
    "        datadict.setdefault(key,[]).append(val)\n",
    "\n"
   ]
  },
  {
   "cell_type": "code",
   "execution_count": 7,
   "metadata": {
    "scrolled": true
   },
   "outputs": [
    {
     "data": {
      "text/plain": [
       "{'Sun': ['10:00-20:00', '01:00-04:00'],\n",
       " 'Fri': ['05:00-10:00', '16:30-23:50'],\n",
       " 'Sat': ['10:00-24:00', '02:00-06:00'],\n",
       " 'Tue': ['03:30-18:15', '19:00-20:00'],\n",
       " 'Wed': ['04:25-15:14', '15:14-22:40'],\n",
       " 'Thu': ['00:00-23:59'],\n",
       " 'Mon': ['05:00-13:00', '15:00-21:00']}"
      ]
     },
     "execution_count": 7,
     "metadata": {},
     "output_type": "execute_result"
    }
   ],
   "source": [
    "datadict\n"
   ]
  },
  {
   "cell_type": "code",
   "execution_count": 96,
   "metadata": {},
   "outputs": [
    {
     "data": {
      "text/plain": [
       "['10:00-20:00',\n",
       " '05:00-10:00',\n",
       " '16:30-23:50',\n",
       " '10:00-24:00',\n",
       " '01:00-04:00',\n",
       " '02:00-06:00',\n",
       " '03:30-18:15',\n",
       " '19:00-20:00',\n",
       " '04:25-15:14',\n",
       " '15:14-22:40',\n",
       " '00:00-23:59',\n",
       " '05:00-13:00',\n",
       " '15:00-21:00']"
      ]
     },
     "execution_count": 96,
     "metadata": {},
     "output_type": "execute_result"
    }
   ],
   "source": [
    "time"
   ]
  },
  {
   "cell_type": "code",
   "execution_count": 131,
   "metadata": {},
   "outputs": [
    {
     "name": "stdout",
     "output_type": "stream",
     "text": [
      "1\n",
      "0\n",
      "1\n",
      "1\n",
      "0\n",
      "0\n",
      "0\n",
      "1\n",
      "0\n",
      "1\n",
      "0\n",
      "0\n",
      "1\n"
     ]
    }
   ],
   "source": [
    "for times in time:\n",
    "    l1 = times.split('-')[0]\n",
    "    l2 = times.split('-')[1]\n",
    "    #print(list(map(int,l1.split(':'))))\n",
    "    #print(list(map(int,l2.split(':'))))"
   ]
  },
  {
   "cell_type": "code",
   "execution_count": null,
   "metadata": {},
   "outputs": [],
   "source": []
  },
  {
   "cell_type": "code",
   "execution_count": null,
   "metadata": {},
   "outputs": [],
   "source": []
  },
  {
   "cell_type": "code",
   "execution_count": null,
   "metadata": {},
   "outputs": [],
   "source": []
  },
  {
   "cell_type": "code",
   "execution_count": 56,
   "metadata": {},
   "outputs": [
    {
     "name": "stdout",
     "output_type": "stream",
     "text": [
      "The original list is : [(1, 'gfg'), (1, 'is'), (2, 'best'), (3, 'for'), (4, 'CS')]\n",
      "defaultdict(<class 'list'>, {1: ['gfg', 'is'], 2: ['best'], 3: ['for'], 4: ['CS']})\n"
     ]
    }
   ],
   "source": [
    "# initializing list \n",
    "test_list = [(1, 'gfg'), (1, 'is'), (2, 'best'), (3, 'for'), (4, 'CS')] \n",
    "  \n",
    "# printing original list \n",
    "print(\"The original list is : \" + str(test_list)) \n",
    "  \n",
    "# Using defaultdict() + loop \n",
    "# Convert list of tuples to dictionary value lists \n",
    "res = defaultdict(list) \n",
    "for i, j in test_list: \n",
    "    res[i].append(j) \n",
    "    \n",
    "print(res)"
   ]
  },
  {
   "cell_type": "code",
   "execution_count": null,
   "metadata": {},
   "outputs": [],
   "source": []
  }
 ],
 "metadata": {
  "kernelspec": {
   "display_name": "Python 3",
   "language": "python",
   "name": "python3"
  },
  "language_info": {
   "codemirror_mode": {
    "name": "ipython",
    "version": 3
   },
   "file_extension": ".py",
   "mimetype": "text/x-python",
   "name": "python",
   "nbconvert_exporter": "python",
   "pygments_lexer": "ipython3",
   "version": "3.7.1"
  }
 },
 "nbformat": 4,
 "nbformat_minor": 2
}
